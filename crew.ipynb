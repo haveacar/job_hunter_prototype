{
 "cells": [
  {
   "cell_type": "code",
   "id": "initial_id",
   "metadata": {
    "collapsed": true,
    "ExecuteTime": {
     "end_time": "2025-04-29T20:19:58.777810Z",
     "start_time": "2025-04-29T20:19:58.706972Z"
    }
   },
   "source": [
    "import os\n",
    "from utils import OPENAI_API_KEY, SERPAPI_API_KEY, PINECONE_API_KEY\n",
    "from typing import List\n",
    "\n",
    "from langchain_community.utilities import SerpAPIWrapper\n",
    "from langchain_openai import ChatOpenAI, OpenAIEmbeddings\n",
    "from langchain.vectorstores import Pinecone\n",
    "from langchain.chains import RetrievalQA\n",
    "from langgraph.graph import StateGraph\n",
    "from langchain.agents import initialize_agent, AgentType, load_tools\n",
    "\n",
    "import pinecone\n",
    "\n",
    "\n",
    "llm = ChatOpenAI(api_key=OPENAI_API_KEY, temperature=0.5)\n",
    "\n"
   ],
   "outputs": [],
   "execution_count": 8
  },
  {
   "metadata": {
    "ExecuteTime": {
     "end_time": "2025-04-29T20:22:32.223970Z",
     "start_time": "2025-04-29T20:22:32.220866Z"
    }
   },
   "cell_type": "code",
   "source": "research_tool = SerpAPIWrapper(serpapi_api_key=SERPAPI_API_KEY)\n",
   "id": "d9b348811040e6c9",
   "outputs": [],
   "execution_count": 12
  },
  {
   "metadata": {},
   "cell_type": "markdown",
   "source": "",
   "id": "54b4e4608eb4795b"
  },
  {
   "metadata": {
    "ExecuteTime": {
     "end_time": "2025-04-29T20:28:34.210614Z",
     "start_time": "2025-04-29T20:28:34.200533Z"
    }
   },
   "cell_type": "code",
   "source": [
    "# Agent 1: Researcher\n",
    "researcher = initialize_agent(\n",
    "    agent_type=AgentType.ZERO_SHOT_REACT_DESCRIPTION,  # Adding required agent_type\n",
    "    llm=llm,\n",
    "    tools=[scrape_tool],  # Removed undefined search_tool\n",
    "    verbose=True,\n",
    "    agent_kwargs={\n",
    "        \"prefix\": \"You are a Tech Job Researcher. Your goal is to make sure to do amazing analysis on job posting to help job applicants.\",\n",
    "        \"format_instructions\": \"As a Job Researcher, your prowess in navigating and extracting critical information from job postings is unmatched. Your skills help pinpoint the necessary qualifications and skills sought by employers, forming the foundation for effective application tailoring.\"\n",
    "    }\n",
    ")"
   ],
   "id": "1d30058212de7bc8",
   "outputs": [
    {
     "name": "stderr",
     "output_type": "stream",
     "text": [
      "/var/folders/d7/2n3fyjqx7gl90dlpcprzgjb00000gn/T/ipykernel_19885/2613991824.py:2: LangChainDeprecationWarning: LangChain agents will continue to be supported, but it is recommended for new use cases to be built with LangGraph. LangGraph offers a more flexible and full-featured framework for building agents, including support for tool-calling, persistence of state, and human-in-the-loop workflows. For details, refer to the `LangGraph documentation <https://langchain-ai.github.io/langgraph/>`_ as well as guides for `Migrating from AgentExecutor <https://python.langchain.com/docs/how_to/migrate_agent/>`_ and LangGraph's `Pre-built ReAct agent <https://langchain-ai.github.io/langgraph/how-tos/create-react-agent/>`_.\n",
      "  researcher = initialize_agent(\n"
     ]
    }
   ],
   "execution_count": 17
  },
  {
   "metadata": {
    "ExecuteTime": {
     "end_time": "2025-04-29T20:24:03.376662Z",
     "start_time": "2025-04-29T20:24:03.373812Z"
    }
   },
   "cell_type": "code",
   "source": "",
   "id": "c25a9f35d4d5ca0",
   "outputs": [],
   "execution_count": 16
  }
 ],
 "metadata": {
  "kernelspec": {
   "display_name": "Python 3",
   "language": "python",
   "name": "python3"
  },
  "language_info": {
   "codemirror_mode": {
    "name": "ipython",
    "version": 2
   },
   "file_extension": ".py",
   "mimetype": "text/x-python",
   "name": "python",
   "nbconvert_exporter": "python",
   "pygments_lexer": "ipython2",
   "version": "2.7.6"
  }
 },
 "nbformat": 4,
 "nbformat_minor": 5
}
